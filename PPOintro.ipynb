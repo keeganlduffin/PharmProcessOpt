{
 "cells": [
  {
   "cell_type": "markdown",
   "metadata": {},
   "source": [
    "# Project Title\n",
    "\n",
    "## Project Description\n",
    "This project seeks to approach a common pharmaceutical industry challenge of scaling a drug to production after FDA approval. \n",
    "There is urgency in the process as after filing, the patent for the drug is only held by the company for 10 years (fact check this) \n",
    "and facilties cannot be fiscally and reliably build in this time frame. Therefore 3rd party vendors must be employed to sequentially \n",
    "build the molecule over many steps that results in the active pharmaceutical ingredient (API). Selection of these vendors can be \n",
    "a strenous and inefficient process to work out as dozens of steps is common to build an API, however if each vendor is modeled by a\n",
    "set of parameters, computational optimization is the perfect tool to rapidly determine the third party vendor sequence for API \n",
    "construction that allows for the pharma company to realize the maximum profit the patent is able to produce within the 10 year period.\n",
    "\n"
   ]
  },
  {
   "cell_type": "code",
   "execution_count": null,
   "metadata": {},
   "outputs": [],
   "source": [
    "\n",
    "# Step 1: Import Libraries\n",
    "\"\"\"\n",
    "In this section, you will import the necessary libraries that will be used throughout the project.\n",
    "\"\"\"\n",
    "import numpy as np\n",
    "import pandas as pd\n",
    "import matplotlib.pyplot as plt\n",
    "import seaborn as sns\n",
    "import pyomo as \n"
   ]
  },
  {
   "cell_type": "markdown",
   "metadata": {},
   "source": [
    "#Variables to be considered for step determination\n",
    "\n",
    "quality of product\n",
    "turnaround time\n",
    "affiliated transportation costs \n",
    "throughput or capacity maximize\n",
    "processing costs min\n",
    "ability to process multiple steps at once\n",
    "whether or not splitting between vendors could make economic sense\n",
    "# Other libraries as needed (e.g., sklearn, tensorflow, pyomo)"
   ]
  }
 ],
 "metadata": {
  "language_info": {
   "name": "python"
  }
 },
 "nbformat": 4,
 "nbformat_minor": 2
}
