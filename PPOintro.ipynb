{
 "cells": [
  {
   "cell_type": "markdown",
   "metadata": {},
   "source": [
    "# Pharmaceutical Manufacturing Outsourcing Optimization\n",
    "## Background\n",
    "This project seeks to approach a common pharmaceutical industry challenge of scaling a drug to production after FDA approval. \n",
    "There is urgency in the process of scaling to production because after filing, the patent for the drug is only held by the company for 10 years \n",
    "and vertically integrating is no longer the most economically viable option. 3rd party vendors must be employed to sequentially \n",
    "build the molecule over many steps that results in the active pharmaceutical ingredient (API). Selection of these vendors can be \n",
    "a strenous and inefficient process to work out as dozens of steps is common to build an API, however if each vendor is modeled by a\n",
    "set of parameters, computational optimization is the perfect tool to rapidly determine the third party vendor sequence for API \n",
    "construction that allows for the pharma company to realize the maximum profit the patent is able to produce within the 10 year period.\n",
    "\n"
   ]
  },
  {
   "cell_type": "markdown",
   "metadata": {},
   "source": [
    "# Problem Description\n",
    "\n",
    "![alt text](PPO_Problem.png) \n",
    "\n",
    "Consider the above flowsheet, in which raw materials are input to a sequence of steps at different points that yield an API. For a given step it is possible to go from reagents to products with different sequences whether that be a Plug flow, batch, or hybrid reactor as represented below by sequences.\n",
    "\n",
    "![](PPO_Sequence.png)\n",
    "\n",
    "A pharmaceutical company that has just patented an API and wishes to produce it via this synthesis pathway must outsource the steps to third party vendors to retain a competitive advantage. Third party vendors are individually capable of some steps via some synthesis pathways as displayed below. \n",
    "\n",
    "![alt text](PPO_Vendors.png)\n",
    "\n",
    "The challenge is determining the best vendors to assign to each step. Computational optimization provides a modern tool to efficiently determine the best vendor for each step by minmizing the cost necessary to produce the products from the reactants. For this problem considering all possibilities in a superstructure results in the following flow sheet.\n",
    "\n",
    "![alt text](PPO_Supersheet.png)"
   ]
  }
 ],
 "metadata": {
  "language_info": {
   "name": "python"
  }
 },
 "nbformat": 4,
 "nbformat_minor": 2
}
